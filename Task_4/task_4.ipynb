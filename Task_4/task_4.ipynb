{
 "cells": [
  {
   "cell_type": "code",
   "execution_count": null,
   "id": "2e43bd3d",
   "metadata": {},
   "outputs": [],
   "source": [
    "import numpy as np\n",
    "import pandas as pd"
   ]
  },
  {
   "cell_type": "code",
   "execution_count": 65,
   "id": "a9f3dcb2",
   "metadata": {},
   "outputs": [],
   "source": [
    "# Configuration to automatically reload modified modules\n",
    "%load_ext autoreload\n",
    "%autoreload 2\n",
    "\n",
    "# This allows changes in imported modules to be reflected automatically\n",
    "# without needing to restart the kernel"
   ]
  },
  {
   "cell_type": "markdown",
   "id": "0179ac72",
   "metadata": {},
   "source": [
    "# Load Gold Standard Corpus"
   ]
  },
  {
   "cell_type": "code",
   "execution_count": 9,
   "id": "486cf572",
   "metadata": {},
   "outputs": [],
   "source": [
    "gold_corpus = pd.read_csv(\"../Task_3/data/corpus_raw.csv\")"
   ]
  },
  {
   "cell_type": "markdown",
   "id": "11017217",
   "metadata": {},
   "source": [
    "# Load Vector Space Model"
   ]
  },
  {
   "cell_type": "code",
   "execution_count": 26,
   "id": "25af120e",
   "metadata": {},
   "outputs": [],
   "source": [
    "import os\n",
    "import sys\n",
    "\n",
    "\n",
    "# Add the Task_3 directory to the Python path\n",
    "sys.path.append(os.path.join(os.getcwd(), \"../Task_3\"))\n",
    "from vectorizing import load_vectors_scipy"
   ]
  },
  {
   "cell_type": "markdown",
   "id": "5a6ee558",
   "metadata": {},
   "source": [
    "## Load TF (BoW) vectors"
   ]
  },
  {
   "cell_type": "code",
   "execution_count": 29,
   "id": "7f5f0bbc",
   "metadata": {},
   "outputs": [],
   "source": [
    "tf_vectors, tf_vocab = load_vectors_scipy(\"../Task_3/data/VSM/tf_vectors\")"
   ]
  },
  {
   "cell_type": "markdown",
   "id": "b354b11f",
   "metadata": {},
   "source": [
    "### K-Means clustering"
   ]
  },
  {
   "cell_type": "code",
   "execution_count": 64,
   "id": "a05e7c7d",
   "metadata": {},
   "outputs": [],
   "source": [
    "from clustering import kmeans_pipeline"
   ]
  },
  {
   "cell_type": "code",
   "execution_count": 66,
   "id": "caf13239",
   "metadata": {},
   "outputs": [
    {
     "name": "stderr",
     "output_type": "stream",
     "text": [
      "/Users/thedandy/Desktop/Master_IA_codigos/text-mining/.venv/lib/python3.12/site-packages/umap/umap_.py:1952: UserWarning: n_jobs value 1 overridden to 1 by setting random_state. Use no seed for parallelism.\n",
      "  warn(\n"
     ]
    }
   ],
   "source": [
    "cluster_labels = kmeans_pipeline(tf_vectors)"
   ]
  },
  {
   "cell_type": "code",
   "execution_count": 67,
   "id": "cf6fd86f",
   "metadata": {},
   "outputs": [
    {
     "data": {
      "application/vnd.microsoft.datawrangler.viewer.v0+json": {
       "columns": [
        {
         "name": "category",
         "rawType": "object",
         "type": "string"
        },
        {
         "name": "count",
         "rawType": "int64",
         "type": "integer"
        }
       ],
       "ref": "5b560494-87a5-4642-a8fb-d16071cd339c",
       "rows": [
        [
         "talk.politics.guns",
         "20"
        ],
        [
         "talk.politics.mideast",
         "16"
        ],
        [
         "rec.sport.hockey",
         "2"
        ],
        [
         "comp.sys.ibm.pc.hardware",
         "2"
        ],
        [
         "rec.autos",
         "1"
        ],
        [
         "comp.sys.mac.hardware",
         "1"
        ],
        [
         "sci.electronics",
         "1"
        ]
       ],
       "shape": {
        "columns": 1,
        "rows": 7
       }
      },
      "text/plain": [
       "category\n",
       "talk.politics.guns          20\n",
       "talk.politics.mideast       16\n",
       "rec.sport.hockey             2\n",
       "comp.sys.ibm.pc.hardware     2\n",
       "rec.autos                    1\n",
       "comp.sys.mac.hardware        1\n",
       "sci.electronics              1\n",
       "Name: count, dtype: int64"
      ]
     },
     "execution_count": 67,
     "metadata": {},
     "output_type": "execute_result"
    }
   ],
   "source": [
    "indices_valor_3 = np.where(cluster_labels == 1)[0]\n",
    "gold_corpus.iloc[indices_valor_3][\"category\"].value_counts()"
   ]
  },
  {
   "cell_type": "markdown",
   "id": "8886b48a",
   "metadata": {},
   "source": [
    "### --- clustering"
   ]
  },
  {
   "cell_type": "markdown",
   "id": "5d3e32c8",
   "metadata": {},
   "source": [
    "## Load TF-IDF vectors"
   ]
  },
  {
   "cell_type": "code",
   "execution_count": 30,
   "id": "09c0cb71",
   "metadata": {},
   "outputs": [],
   "source": [
    "tfidf_vectors, tfidf_vocab = load_vectors_scipy(\"../Task_3/data/VSM/tfidf_vectors\")"
   ]
  },
  {
   "cell_type": "markdown",
   "id": "ae2c342a",
   "metadata": {},
   "source": [
    "### K-Means clustering"
   ]
  },
  {
   "cell_type": "markdown",
   "id": "69ab5009",
   "metadata": {},
   "source": [
    "### --- clustering"
   ]
  },
  {
   "cell_type": "markdown",
   "id": "98ce6622",
   "metadata": {},
   "source": [
    "# Load Semantic Space Model"
   ]
  },
  {
   "cell_type": "markdown",
   "id": "3e3ca9a0",
   "metadata": {},
   "source": [
    "## Load Additive Embeddings"
   ]
  },
  {
   "cell_type": "markdown",
   "id": "22ba7b8b",
   "metadata": {},
   "source": [
    "## Load Average Embeddings"
   ]
  }
 ],
 "metadata": {
  "kernelspec": {
   "display_name": "text-mining",
   "language": "python",
   "name": "python3"
  },
  "language_info": {
   "codemirror_mode": {
    "name": "ipython",
    "version": 3
   },
   "file_extension": ".py",
   "mimetype": "text/x-python",
   "name": "python",
   "nbconvert_exporter": "python",
   "pygments_lexer": "ipython3",
   "version": "3.12.4"
  }
 },
 "nbformat": 4,
 "nbformat_minor": 5
}
