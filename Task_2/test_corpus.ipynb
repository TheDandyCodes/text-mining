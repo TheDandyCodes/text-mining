{
 "cells": [
  {
   "cell_type": "code",
   "execution_count": 165,
   "id": "2bb9aa29",
   "metadata": {},
   "outputs": [
    {
     "name": "stdout",
     "output_type": "stream",
     "text": [
      "The autoreload extension is already loaded. To reload it, use:\n",
      "  %reload_ext autoreload\n"
     ]
    }
   ],
   "source": [
    "# Configuration to automatically reload modified modules\n",
    "%load_ext autoreload\n",
    "%autoreload 2\n",
    "\n",
    "# This allows changes in imported modules to be reflected automatically\n",
    "# without needing to restart the kernel"
   ]
  },
  {
   "cell_type": "code",
   "execution_count": 166,
   "id": "02563802",
   "metadata": {},
   "outputs": [],
   "source": [
    "import nltk\n",
    "import pandas as pd\n",
    "from nltk.corpus import treebank\n",
    "from pos_spacy import spacy_pos\n",
    "from standford_pos_nltk import stanford_pos\n",
    "from test_corpus import accuracy, compare_pos_taggers, extract_raw_text, extract_tokens_from_gold\n",
    "\n",
    "\n",
    "# Check if treebank corpus is available, if not, download it\n",
    "try:\n",
    "    treebank.tagged_sents()\n",
    "except LookupError:\n",
    "    print(\"Downloading NLTK treebank corpus...\")\n",
    "    nltk.download(\"treebank\")"
   ]
  },
  {
   "cell_type": "code",
   "execution_count": 167,
   "id": "d1eec205",
   "metadata": {},
   "outputs": [],
   "source": [
    "gold = treebank.tagged_sents()[:15]  # POS PTB"
   ]
  },
  {
   "cell_type": "code",
   "execution_count": 168,
   "id": "3bd2db85",
   "metadata": {},
   "outputs": [],
   "source": [
    "raw_text = extract_raw_text(gold)"
   ]
  },
  {
   "cell_type": "code",
   "execution_count": 169,
   "id": "df35a489",
   "metadata": {},
   "outputs": [],
   "source": [
    "# Tokenize the raw text for both taggers\n",
    "tokenized_text = extract_tokens_from_gold(gold)"
   ]
  },
  {
   "cell_type": "code",
   "execution_count": 170,
   "id": "7b2f6591",
   "metadata": {},
   "outputs": [],
   "source": [
    "pos_tag_output_st_nltk = stanford_pos(tokenized_text)\n",
    "pos_tag_output_spacy = spacy_pos(tokenized_text)\n",
    "mismatches = compare_pos_taggers(pos_tag_output_st_nltk, pos_tag_output_spacy)"
   ]
  },
  {
   "cell_type": "code",
   "execution_count": 171,
   "id": "dfc24894",
   "metadata": {},
   "outputs": [
    {
     "data": {
      "application/vnd.microsoft.datawrangler.viewer.v0+json": {
       "columns": [
        {
         "name": "index",
         "rawType": "int64",
         "type": "integer"
        },
        {
         "name": "word1",
         "rawType": "object",
         "type": "string"
        },
        {
         "name": "tag1",
         "rawType": "object",
         "type": "string"
        },
        {
         "name": "word2",
         "rawType": "object",
         "type": "string"
        },
        {
         "name": "tag2",
         "rawType": "object",
         "type": "string"
        }
       ],
       "ref": "53ce7486-b4c3-4a29-9d69-81c945306c0c",
       "rows": [
        [
         "0",
         "*-1",
         "CD",
         "*-1",
         "NNP"
        ],
        [
         "1",
         "*T*-1",
         "NN",
         "*T*-1",
         "UH"
        ],
        [
         "2",
         "*T*-1",
         "NN",
         "*T*-1",
         "RB"
        ],
        [
         "3",
         "*T*-2",
         "NN",
         "*T*-2",
         "UH"
        ],
        [
         "4",
         "that",
         "WDT",
         "that",
         "IN"
        ],
        [
         "5",
         "*T*-2",
         "NN",
         "*T*-2",
         "NNP"
        ],
        [
         "6",
         "*-2",
         "CD",
         "*-2",
         "NNP"
        ],
        [
         "7",
         "Neither",
         "CC",
         "Neither",
         "DT"
        ],
        [
         "8",
         "*T*-3",
         "VBP",
         "*T*-3",
         "NNP"
        ],
        [
         "9",
         "studied",
         "VBN",
         "studied",
         "VBD"
        ],
        [
         "10",
         "*T*-1",
         "NNP",
         "*T*-1",
         "UH"
        ],
        [
         "11",
         "*-1",
         "NN",
         "*-1",
         "RB"
        ],
        [
         "12",
         "*-1",
         "NN",
         "*-1",
         "NNP"
        ],
        [
         "13",
         "*-3",
         "CD",
         "*-3",
         "JJ"
        ]
       ],
       "shape": {
        "columns": 4,
        "rows": 14
       }
      },
      "text/html": [
       "<div>\n",
       "<style scoped>\n",
       "    .dataframe tbody tr th:only-of-type {\n",
       "        vertical-align: middle;\n",
       "    }\n",
       "\n",
       "    .dataframe tbody tr th {\n",
       "        vertical-align: top;\n",
       "    }\n",
       "\n",
       "    .dataframe thead th {\n",
       "        text-align: right;\n",
       "    }\n",
       "</style>\n",
       "<table border=\"1\" class=\"dataframe\">\n",
       "  <thead>\n",
       "    <tr style=\"text-align: right;\">\n",
       "      <th></th>\n",
       "      <th>word1</th>\n",
       "      <th>tag1</th>\n",
       "      <th>word2</th>\n",
       "      <th>tag2</th>\n",
       "    </tr>\n",
       "  </thead>\n",
       "  <tbody>\n",
       "    <tr>\n",
       "      <th>0</th>\n",
       "      <td>*-1</td>\n",
       "      <td>CD</td>\n",
       "      <td>*-1</td>\n",
       "      <td>NNP</td>\n",
       "    </tr>\n",
       "    <tr>\n",
       "      <th>1</th>\n",
       "      <td>*T*-1</td>\n",
       "      <td>NN</td>\n",
       "      <td>*T*-1</td>\n",
       "      <td>UH</td>\n",
       "    </tr>\n",
       "    <tr>\n",
       "      <th>2</th>\n",
       "      <td>*T*-1</td>\n",
       "      <td>NN</td>\n",
       "      <td>*T*-1</td>\n",
       "      <td>RB</td>\n",
       "    </tr>\n",
       "    <tr>\n",
       "      <th>3</th>\n",
       "      <td>*T*-2</td>\n",
       "      <td>NN</td>\n",
       "      <td>*T*-2</td>\n",
       "      <td>UH</td>\n",
       "    </tr>\n",
       "    <tr>\n",
       "      <th>4</th>\n",
       "      <td>that</td>\n",
       "      <td>WDT</td>\n",
       "      <td>that</td>\n",
       "      <td>IN</td>\n",
       "    </tr>\n",
       "    <tr>\n",
       "      <th>5</th>\n",
       "      <td>*T*-2</td>\n",
       "      <td>NN</td>\n",
       "      <td>*T*-2</td>\n",
       "      <td>NNP</td>\n",
       "    </tr>\n",
       "    <tr>\n",
       "      <th>6</th>\n",
       "      <td>*-2</td>\n",
       "      <td>CD</td>\n",
       "      <td>*-2</td>\n",
       "      <td>NNP</td>\n",
       "    </tr>\n",
       "    <tr>\n",
       "      <th>7</th>\n",
       "      <td>Neither</td>\n",
       "      <td>CC</td>\n",
       "      <td>Neither</td>\n",
       "      <td>DT</td>\n",
       "    </tr>\n",
       "    <tr>\n",
       "      <th>8</th>\n",
       "      <td>*T*-3</td>\n",
       "      <td>VBP</td>\n",
       "      <td>*T*-3</td>\n",
       "      <td>NNP</td>\n",
       "    </tr>\n",
       "    <tr>\n",
       "      <th>9</th>\n",
       "      <td>studied</td>\n",
       "      <td>VBN</td>\n",
       "      <td>studied</td>\n",
       "      <td>VBD</td>\n",
       "    </tr>\n",
       "    <tr>\n",
       "      <th>10</th>\n",
       "      <td>*T*-1</td>\n",
       "      <td>NNP</td>\n",
       "      <td>*T*-1</td>\n",
       "      <td>UH</td>\n",
       "    </tr>\n",
       "    <tr>\n",
       "      <th>11</th>\n",
       "      <td>*-1</td>\n",
       "      <td>NN</td>\n",
       "      <td>*-1</td>\n",
       "      <td>RB</td>\n",
       "    </tr>\n",
       "    <tr>\n",
       "      <th>12</th>\n",
       "      <td>*-1</td>\n",
       "      <td>NN</td>\n",
       "      <td>*-1</td>\n",
       "      <td>NNP</td>\n",
       "    </tr>\n",
       "    <tr>\n",
       "      <th>13</th>\n",
       "      <td>*-3</td>\n",
       "      <td>CD</td>\n",
       "      <td>*-3</td>\n",
       "      <td>JJ</td>\n",
       "    </tr>\n",
       "  </tbody>\n",
       "</table>\n",
       "</div>"
      ],
      "text/plain": [
       "      word1 tag1    word2 tag2\n",
       "0       *-1   CD      *-1  NNP\n",
       "1     *T*-1   NN    *T*-1   UH\n",
       "2     *T*-1   NN    *T*-1   RB\n",
       "3     *T*-2   NN    *T*-2   UH\n",
       "4      that  WDT     that   IN\n",
       "5     *T*-2   NN    *T*-2  NNP\n",
       "6       *-2   CD      *-2  NNP\n",
       "7   Neither   CC  Neither   DT\n",
       "8     *T*-3  VBP    *T*-3  NNP\n",
       "9   studied  VBN  studied  VBD\n",
       "10    *T*-1  NNP    *T*-1   UH\n",
       "11      *-1   NN      *-1   RB\n",
       "12      *-1   NN      *-1  NNP\n",
       "13      *-3   CD      *-3   JJ"
      ]
     },
     "execution_count": 171,
     "metadata": {},
     "output_type": "execute_result"
    }
   ],
   "source": [
    "pd.DataFrame(mismatches).drop_duplicates()"
   ]
  },
  {
   "cell_type": "code",
   "execution_count": 172,
   "id": "bfbf8583",
   "metadata": {},
   "outputs": [
    {
     "name": "stdout",
     "output_type": "stream",
     "text": [
      "Accuracy (Stanford NLTK): 0.8856\n",
      "Accuracy (spaCy): 0.8883\n"
     ]
    }
   ],
   "source": [
    "acc_st_nltk, mismatches_st_nltk = accuracy(pos_tag_output_st_nltk, gold, return_mismatches=True)\n",
    "acc_spacy, mismatches_spacy = accuracy(pos_tag_output_spacy, gold, return_mismatches=True)\n",
    "print(f\"Accuracy (Stanford NLTK): {acc_st_nltk:.4f}\")\n",
    "print(f\"Accuracy (spaCy): {acc_spacy:.4f}\")"
   ]
  },
  {
   "cell_type": "code",
   "execution_count": 173,
   "id": "fab289b0",
   "metadata": {},
   "outputs": [
    {
     "data": {
      "application/vnd.microsoft.datawrangler.viewer.v0+json": {
       "columns": [
        {
         "name": "index",
         "rawType": "int64",
         "type": "integer"
        },
        {
         "name": "word",
         "rawType": "object",
         "type": "string"
        },
        {
         "name": "model_tag",
         "rawType": "object",
         "type": "string"
        },
        {
         "name": "gold_word",
         "rawType": "object",
         "type": "string"
        },
        {
         "name": "gold_tag",
         "rawType": "object",
         "type": "string"
        }
       ],
       "ref": "d1734489-7ad3-48e4-b5e5-72b124ccf95c",
       "rows": [
        [
         "0",
         "Dutch",
         "JJ",
         "Dutch",
         "NNP"
        ],
        [
         "1",
         "publishing",
         "NN",
         "publishing",
         "VBG"
        ],
        [
         "2",
         "*-1",
         "CD",
         "*-1",
         "-NONE-"
        ],
        [
         "3",
         "used",
         "VBD",
         "used",
         "VBN"
        ],
        [
         "4",
         "*",
         "NFP",
         "*",
         "-NONE-"
        ],
        [
         "7",
         "to",
         "IN",
         "to",
         "TO"
        ],
        [
         "8",
         "more",
         "JJR",
         "more",
         "RBR"
        ],
        [
         "9",
         "ago",
         "RB",
         "ago",
         "IN"
        ],
        [
         "10",
         "0",
         "CD",
         "0",
         "-NONE-"
        ],
        [
         "11",
         "*T*-1",
         "NN",
         "*T*-1",
         "-NONE-"
        ],
        [
         "14",
         "later",
         "RB",
         "later",
         "JJ"
        ],
        [
         "16",
         "*T*-2",
         "NN",
         "*T*-2",
         "-NONE-"
        ],
        [
         "17",
         "New",
         "NNP",
         "New",
         "JJ"
        ],
        [
         "18",
         "York-based",
         "NNP",
         "York-based",
         "JJ"
        ],
        [
         "20",
         "Micronite",
         "NNP",
         "Micronite",
         "NN"
        ],
        [
         "21",
         "*-2",
         "CD",
         "*-2",
         "-NONE-"
        ],
        [
         "27",
         "heard",
         "VBN",
         "heard",
         "VBD"
        ],
        [
         "28",
         "Neither",
         "CC",
         "Neither",
         "DT"
        ],
        [
         "29",
         "*T*-3",
         "VBP",
         "*T*-3",
         "-NONE-"
        ],
        [
         "30",
         "studied",
         "VBN",
         "studied",
         "VBD"
        ],
        [
         "31",
         "*T*-1",
         "NNP",
         "*T*-1",
         "-NONE-"
        ],
        [
         "33",
         "*-1",
         "NN",
         "*-1",
         "-NONE-"
        ],
        [
         "35",
         "1950s",
         "NNS",
         "1950s",
         "CD"
        ],
        [
         "36",
         "replaced",
         "VBD",
         "replaced",
         "VBN"
        ],
        [
         "39",
         "*-3",
         "CD",
         "*-3",
         "-NONE-"
        ]
       ],
       "shape": {
        "columns": 4,
        "rows": 25
       }
      },
      "text/html": [
       "<div>\n",
       "<style scoped>\n",
       "    .dataframe tbody tr th:only-of-type {\n",
       "        vertical-align: middle;\n",
       "    }\n",
       "\n",
       "    .dataframe tbody tr th {\n",
       "        vertical-align: top;\n",
       "    }\n",
       "\n",
       "    .dataframe thead th {\n",
       "        text-align: right;\n",
       "    }\n",
       "</style>\n",
       "<table border=\"1\" class=\"dataframe\">\n",
       "  <thead>\n",
       "    <tr style=\"text-align: right;\">\n",
       "      <th></th>\n",
       "      <th>word</th>\n",
       "      <th>model_tag</th>\n",
       "      <th>gold_word</th>\n",
       "      <th>gold_tag</th>\n",
       "    </tr>\n",
       "  </thead>\n",
       "  <tbody>\n",
       "    <tr>\n",
       "      <th>0</th>\n",
       "      <td>Dutch</td>\n",
       "      <td>JJ</td>\n",
       "      <td>Dutch</td>\n",
       "      <td>NNP</td>\n",
       "    </tr>\n",
       "    <tr>\n",
       "      <th>1</th>\n",
       "      <td>publishing</td>\n",
       "      <td>NN</td>\n",
       "      <td>publishing</td>\n",
       "      <td>VBG</td>\n",
       "    </tr>\n",
       "    <tr>\n",
       "      <th>2</th>\n",
       "      <td>*-1</td>\n",
       "      <td>CD</td>\n",
       "      <td>*-1</td>\n",
       "      <td>-NONE-</td>\n",
       "    </tr>\n",
       "    <tr>\n",
       "      <th>3</th>\n",
       "      <td>used</td>\n",
       "      <td>VBD</td>\n",
       "      <td>used</td>\n",
       "      <td>VBN</td>\n",
       "    </tr>\n",
       "    <tr>\n",
       "      <th>4</th>\n",
       "      <td>*</td>\n",
       "      <td>NFP</td>\n",
       "      <td>*</td>\n",
       "      <td>-NONE-</td>\n",
       "    </tr>\n",
       "    <tr>\n",
       "      <th>7</th>\n",
       "      <td>to</td>\n",
       "      <td>IN</td>\n",
       "      <td>to</td>\n",
       "      <td>TO</td>\n",
       "    </tr>\n",
       "    <tr>\n",
       "      <th>8</th>\n",
       "      <td>more</td>\n",
       "      <td>JJR</td>\n",
       "      <td>more</td>\n",
       "      <td>RBR</td>\n",
       "    </tr>\n",
       "    <tr>\n",
       "      <th>9</th>\n",
       "      <td>ago</td>\n",
       "      <td>RB</td>\n",
       "      <td>ago</td>\n",
       "      <td>IN</td>\n",
       "    </tr>\n",
       "    <tr>\n",
       "      <th>10</th>\n",
       "      <td>0</td>\n",
       "      <td>CD</td>\n",
       "      <td>0</td>\n",
       "      <td>-NONE-</td>\n",
       "    </tr>\n",
       "    <tr>\n",
       "      <th>11</th>\n",
       "      <td>*T*-1</td>\n",
       "      <td>NN</td>\n",
       "      <td>*T*-1</td>\n",
       "      <td>-NONE-</td>\n",
       "    </tr>\n",
       "    <tr>\n",
       "      <th>14</th>\n",
       "      <td>later</td>\n",
       "      <td>RB</td>\n",
       "      <td>later</td>\n",
       "      <td>JJ</td>\n",
       "    </tr>\n",
       "    <tr>\n",
       "      <th>16</th>\n",
       "      <td>*T*-2</td>\n",
       "      <td>NN</td>\n",
       "      <td>*T*-2</td>\n",
       "      <td>-NONE-</td>\n",
       "    </tr>\n",
       "    <tr>\n",
       "      <th>17</th>\n",
       "      <td>New</td>\n",
       "      <td>NNP</td>\n",
       "      <td>New</td>\n",
       "      <td>JJ</td>\n",
       "    </tr>\n",
       "    <tr>\n",
       "      <th>18</th>\n",
       "      <td>York-based</td>\n",
       "      <td>NNP</td>\n",
       "      <td>York-based</td>\n",
       "      <td>JJ</td>\n",
       "    </tr>\n",
       "    <tr>\n",
       "      <th>20</th>\n",
       "      <td>Micronite</td>\n",
       "      <td>NNP</td>\n",
       "      <td>Micronite</td>\n",
       "      <td>NN</td>\n",
       "    </tr>\n",
       "    <tr>\n",
       "      <th>21</th>\n",
       "      <td>*-2</td>\n",
       "      <td>CD</td>\n",
       "      <td>*-2</td>\n",
       "      <td>-NONE-</td>\n",
       "    </tr>\n",
       "    <tr>\n",
       "      <th>27</th>\n",
       "      <td>heard</td>\n",
       "      <td>VBN</td>\n",
       "      <td>heard</td>\n",
       "      <td>VBD</td>\n",
       "    </tr>\n",
       "    <tr>\n",
       "      <th>28</th>\n",
       "      <td>Neither</td>\n",
       "      <td>CC</td>\n",
       "      <td>Neither</td>\n",
       "      <td>DT</td>\n",
       "    </tr>\n",
       "    <tr>\n",
       "      <th>29</th>\n",
       "      <td>*T*-3</td>\n",
       "      <td>VBP</td>\n",
       "      <td>*T*-3</td>\n",
       "      <td>-NONE-</td>\n",
       "    </tr>\n",
       "    <tr>\n",
       "      <th>30</th>\n",
       "      <td>studied</td>\n",
       "      <td>VBN</td>\n",
       "      <td>studied</td>\n",
       "      <td>VBD</td>\n",
       "    </tr>\n",
       "    <tr>\n",
       "      <th>31</th>\n",
       "      <td>*T*-1</td>\n",
       "      <td>NNP</td>\n",
       "      <td>*T*-1</td>\n",
       "      <td>-NONE-</td>\n",
       "    </tr>\n",
       "    <tr>\n",
       "      <th>33</th>\n",
       "      <td>*-1</td>\n",
       "      <td>NN</td>\n",
       "      <td>*-1</td>\n",
       "      <td>-NONE-</td>\n",
       "    </tr>\n",
       "    <tr>\n",
       "      <th>35</th>\n",
       "      <td>1950s</td>\n",
       "      <td>NNS</td>\n",
       "      <td>1950s</td>\n",
       "      <td>CD</td>\n",
       "    </tr>\n",
       "    <tr>\n",
       "      <th>36</th>\n",
       "      <td>replaced</td>\n",
       "      <td>VBD</td>\n",
       "      <td>replaced</td>\n",
       "      <td>VBN</td>\n",
       "    </tr>\n",
       "    <tr>\n",
       "      <th>39</th>\n",
       "      <td>*-3</td>\n",
       "      <td>CD</td>\n",
       "      <td>*-3</td>\n",
       "      <td>-NONE-</td>\n",
       "    </tr>\n",
       "  </tbody>\n",
       "</table>\n",
       "</div>"
      ],
      "text/plain": [
       "          word model_tag   gold_word gold_tag\n",
       "0        Dutch        JJ       Dutch      NNP\n",
       "1   publishing        NN  publishing      VBG\n",
       "2          *-1        CD         *-1   -NONE-\n",
       "3         used       VBD        used      VBN\n",
       "4            *       NFP           *   -NONE-\n",
       "7           to        IN          to       TO\n",
       "8         more       JJR        more      RBR\n",
       "9          ago        RB         ago       IN\n",
       "10           0        CD           0   -NONE-\n",
       "11       *T*-1        NN       *T*-1   -NONE-\n",
       "14       later        RB       later       JJ\n",
       "16       *T*-2        NN       *T*-2   -NONE-\n",
       "17         New       NNP         New       JJ\n",
       "18  York-based       NNP  York-based       JJ\n",
       "20   Micronite       NNP   Micronite       NN\n",
       "21         *-2        CD         *-2   -NONE-\n",
       "27       heard       VBN       heard      VBD\n",
       "28     Neither        CC     Neither       DT\n",
       "29       *T*-3       VBP       *T*-3   -NONE-\n",
       "30     studied       VBN     studied      VBD\n",
       "31       *T*-1       NNP       *T*-1   -NONE-\n",
       "33         *-1        NN         *-1   -NONE-\n",
       "35       1950s       NNS       1950s       CD\n",
       "36    replaced       VBD    replaced      VBN\n",
       "39         *-3        CD         *-3   -NONE-"
      ]
     },
     "execution_count": 173,
     "metadata": {},
     "output_type": "execute_result"
    }
   ],
   "source": [
    "pd.DataFrame(mismatches_st_nltk).drop_duplicates()"
   ]
  },
  {
   "cell_type": "code",
   "execution_count": 174,
   "id": "b1106056",
   "metadata": {},
   "outputs": [
    {
     "data": {
      "application/vnd.microsoft.datawrangler.viewer.v0+json": {
       "columns": [
        {
         "name": "index",
         "rawType": "int64",
         "type": "integer"
        },
        {
         "name": "word",
         "rawType": "object",
         "type": "string"
        },
        {
         "name": "model_tag",
         "rawType": "object",
         "type": "string"
        },
        {
         "name": "gold_word",
         "rawType": "object",
         "type": "string"
        },
        {
         "name": "gold_tag",
         "rawType": "object",
         "type": "string"
        }
       ],
       "ref": "3ece38b8-1f8a-4cda-bdcf-ef2acedf0b2a",
       "rows": [
        [
         "0",
         "Dutch",
         "JJ",
         "Dutch",
         "NNP"
        ],
        [
         "1",
         "publishing",
         "NN",
         "publishing",
         "VBG"
        ],
        [
         "2",
         "*-1",
         "NNP",
         "*-1",
         "-NONE-"
        ],
        [
         "3",
         "used",
         "VBD",
         "used",
         "VBN"
        ],
        [
         "4",
         "*",
         "NFP",
         "*",
         "-NONE-"
        ],
        [
         "7",
         "to",
         "IN",
         "to",
         "TO"
        ],
        [
         "8",
         "more",
         "JJR",
         "more",
         "RBR"
        ],
        [
         "9",
         "ago",
         "RB",
         "ago",
         "IN"
        ],
        [
         "10",
         "0",
         "CD",
         "0",
         "-NONE-"
        ],
        [
         "11",
         "*T*-1",
         "UH",
         "*T*-1",
         "-NONE-"
        ],
        [
         "13",
         "*T*-1",
         "RB",
         "*T*-1",
         "-NONE-"
        ],
        [
         "14",
         "later",
         "RB",
         "later",
         "JJ"
        ],
        [
         "16",
         "*T*-2",
         "UH",
         "*T*-2",
         "-NONE-"
        ],
        [
         "17",
         "New",
         "NNP",
         "New",
         "JJ"
        ],
        [
         "18",
         "York-based",
         "NNP",
         "York-based",
         "JJ"
        ],
        [
         "19",
         "that",
         "IN",
         "that",
         "WDT"
        ],
        [
         "20",
         "*T*-2",
         "NNP",
         "*T*-2",
         "-NONE-"
        ],
        [
         "21",
         "Micronite",
         "NNP",
         "Micronite",
         "NN"
        ],
        [
         "22",
         "*-2",
         "NNP",
         "*-2",
         "-NONE-"
        ],
        [
         "28",
         "heard",
         "VBN",
         "heard",
         "VBD"
        ],
        [
         "29",
         "*T*-3",
         "NNP",
         "*T*-3",
         "-NONE-"
        ],
        [
         "32",
         "*-1",
         "RB",
         "*-1",
         "-NONE-"
        ],
        [
         "34",
         "1950s",
         "NNS",
         "1950s",
         "CD"
        ],
        [
         "35",
         "replaced",
         "VBD",
         "replaced",
         "VBN"
        ],
        [
         "38",
         "*-3",
         "JJ",
         "*-3",
         "-NONE-"
        ]
       ],
       "shape": {
        "columns": 4,
        "rows": 25
       }
      },
      "text/html": [
       "<div>\n",
       "<style scoped>\n",
       "    .dataframe tbody tr th:only-of-type {\n",
       "        vertical-align: middle;\n",
       "    }\n",
       "\n",
       "    .dataframe tbody tr th {\n",
       "        vertical-align: top;\n",
       "    }\n",
       "\n",
       "    .dataframe thead th {\n",
       "        text-align: right;\n",
       "    }\n",
       "</style>\n",
       "<table border=\"1\" class=\"dataframe\">\n",
       "  <thead>\n",
       "    <tr style=\"text-align: right;\">\n",
       "      <th></th>\n",
       "      <th>word</th>\n",
       "      <th>model_tag</th>\n",
       "      <th>gold_word</th>\n",
       "      <th>gold_tag</th>\n",
       "    </tr>\n",
       "  </thead>\n",
       "  <tbody>\n",
       "    <tr>\n",
       "      <th>0</th>\n",
       "      <td>Dutch</td>\n",
       "      <td>JJ</td>\n",
       "      <td>Dutch</td>\n",
       "      <td>NNP</td>\n",
       "    </tr>\n",
       "    <tr>\n",
       "      <th>1</th>\n",
       "      <td>publishing</td>\n",
       "      <td>NN</td>\n",
       "      <td>publishing</td>\n",
       "      <td>VBG</td>\n",
       "    </tr>\n",
       "    <tr>\n",
       "      <th>2</th>\n",
       "      <td>*-1</td>\n",
       "      <td>NNP</td>\n",
       "      <td>*-1</td>\n",
       "      <td>-NONE-</td>\n",
       "    </tr>\n",
       "    <tr>\n",
       "      <th>3</th>\n",
       "      <td>used</td>\n",
       "      <td>VBD</td>\n",
       "      <td>used</td>\n",
       "      <td>VBN</td>\n",
       "    </tr>\n",
       "    <tr>\n",
       "      <th>4</th>\n",
       "      <td>*</td>\n",
       "      <td>NFP</td>\n",
       "      <td>*</td>\n",
       "      <td>-NONE-</td>\n",
       "    </tr>\n",
       "    <tr>\n",
       "      <th>7</th>\n",
       "      <td>to</td>\n",
       "      <td>IN</td>\n",
       "      <td>to</td>\n",
       "      <td>TO</td>\n",
       "    </tr>\n",
       "    <tr>\n",
       "      <th>8</th>\n",
       "      <td>more</td>\n",
       "      <td>JJR</td>\n",
       "      <td>more</td>\n",
       "      <td>RBR</td>\n",
       "    </tr>\n",
       "    <tr>\n",
       "      <th>9</th>\n",
       "      <td>ago</td>\n",
       "      <td>RB</td>\n",
       "      <td>ago</td>\n",
       "      <td>IN</td>\n",
       "    </tr>\n",
       "    <tr>\n",
       "      <th>10</th>\n",
       "      <td>0</td>\n",
       "      <td>CD</td>\n",
       "      <td>0</td>\n",
       "      <td>-NONE-</td>\n",
       "    </tr>\n",
       "    <tr>\n",
       "      <th>11</th>\n",
       "      <td>*T*-1</td>\n",
       "      <td>UH</td>\n",
       "      <td>*T*-1</td>\n",
       "      <td>-NONE-</td>\n",
       "    </tr>\n",
       "    <tr>\n",
       "      <th>13</th>\n",
       "      <td>*T*-1</td>\n",
       "      <td>RB</td>\n",
       "      <td>*T*-1</td>\n",
       "      <td>-NONE-</td>\n",
       "    </tr>\n",
       "    <tr>\n",
       "      <th>14</th>\n",
       "      <td>later</td>\n",
       "      <td>RB</td>\n",
       "      <td>later</td>\n",
       "      <td>JJ</td>\n",
       "    </tr>\n",
       "    <tr>\n",
       "      <th>16</th>\n",
       "      <td>*T*-2</td>\n",
       "      <td>UH</td>\n",
       "      <td>*T*-2</td>\n",
       "      <td>-NONE-</td>\n",
       "    </tr>\n",
       "    <tr>\n",
       "      <th>17</th>\n",
       "      <td>New</td>\n",
       "      <td>NNP</td>\n",
       "      <td>New</td>\n",
       "      <td>JJ</td>\n",
       "    </tr>\n",
       "    <tr>\n",
       "      <th>18</th>\n",
       "      <td>York-based</td>\n",
       "      <td>NNP</td>\n",
       "      <td>York-based</td>\n",
       "      <td>JJ</td>\n",
       "    </tr>\n",
       "    <tr>\n",
       "      <th>19</th>\n",
       "      <td>that</td>\n",
       "      <td>IN</td>\n",
       "      <td>that</td>\n",
       "      <td>WDT</td>\n",
       "    </tr>\n",
       "    <tr>\n",
       "      <th>20</th>\n",
       "      <td>*T*-2</td>\n",
       "      <td>NNP</td>\n",
       "      <td>*T*-2</td>\n",
       "      <td>-NONE-</td>\n",
       "    </tr>\n",
       "    <tr>\n",
       "      <th>21</th>\n",
       "      <td>Micronite</td>\n",
       "      <td>NNP</td>\n",
       "      <td>Micronite</td>\n",
       "      <td>NN</td>\n",
       "    </tr>\n",
       "    <tr>\n",
       "      <th>22</th>\n",
       "      <td>*-2</td>\n",
       "      <td>NNP</td>\n",
       "      <td>*-2</td>\n",
       "      <td>-NONE-</td>\n",
       "    </tr>\n",
       "    <tr>\n",
       "      <th>28</th>\n",
       "      <td>heard</td>\n",
       "      <td>VBN</td>\n",
       "      <td>heard</td>\n",
       "      <td>VBD</td>\n",
       "    </tr>\n",
       "    <tr>\n",
       "      <th>29</th>\n",
       "      <td>*T*-3</td>\n",
       "      <td>NNP</td>\n",
       "      <td>*T*-3</td>\n",
       "      <td>-NONE-</td>\n",
       "    </tr>\n",
       "    <tr>\n",
       "      <th>32</th>\n",
       "      <td>*-1</td>\n",
       "      <td>RB</td>\n",
       "      <td>*-1</td>\n",
       "      <td>-NONE-</td>\n",
       "    </tr>\n",
       "    <tr>\n",
       "      <th>34</th>\n",
       "      <td>1950s</td>\n",
       "      <td>NNS</td>\n",
       "      <td>1950s</td>\n",
       "      <td>CD</td>\n",
       "    </tr>\n",
       "    <tr>\n",
       "      <th>35</th>\n",
       "      <td>replaced</td>\n",
       "      <td>VBD</td>\n",
       "      <td>replaced</td>\n",
       "      <td>VBN</td>\n",
       "    </tr>\n",
       "    <tr>\n",
       "      <th>38</th>\n",
       "      <td>*-3</td>\n",
       "      <td>JJ</td>\n",
       "      <td>*-3</td>\n",
       "      <td>-NONE-</td>\n",
       "    </tr>\n",
       "  </tbody>\n",
       "</table>\n",
       "</div>"
      ],
      "text/plain": [
       "          word model_tag   gold_word gold_tag\n",
       "0        Dutch        JJ       Dutch      NNP\n",
       "1   publishing        NN  publishing      VBG\n",
       "2          *-1       NNP         *-1   -NONE-\n",
       "3         used       VBD        used      VBN\n",
       "4            *       NFP           *   -NONE-\n",
       "7           to        IN          to       TO\n",
       "8         more       JJR        more      RBR\n",
       "9          ago        RB         ago       IN\n",
       "10           0        CD           0   -NONE-\n",
       "11       *T*-1        UH       *T*-1   -NONE-\n",
       "13       *T*-1        RB       *T*-1   -NONE-\n",
       "14       later        RB       later       JJ\n",
       "16       *T*-2        UH       *T*-2   -NONE-\n",
       "17         New       NNP         New       JJ\n",
       "18  York-based       NNP  York-based       JJ\n",
       "19        that        IN        that      WDT\n",
       "20       *T*-2       NNP       *T*-2   -NONE-\n",
       "21   Micronite       NNP   Micronite       NN\n",
       "22         *-2       NNP         *-2   -NONE-\n",
       "28       heard       VBN       heard      VBD\n",
       "29       *T*-3       NNP       *T*-3   -NONE-\n",
       "32         *-1        RB         *-1   -NONE-\n",
       "34       1950s       NNS       1950s       CD\n",
       "35    replaced       VBD    replaced      VBN\n",
       "38         *-3        JJ         *-3   -NONE-"
      ]
     },
     "execution_count": 174,
     "metadata": {},
     "output_type": "execute_result"
    }
   ],
   "source": [
    "pd.DataFrame(mismatches_spacy).drop_duplicates()"
   ]
  }
 ],
 "metadata": {
  "kernelspec": {
   "display_name": "text-mining",
   "language": "python",
   "name": "python3"
  },
  "language_info": {
   "codemirror_mode": {
    "name": "ipython",
    "version": 3
   },
   "file_extension": ".py",
   "mimetype": "text/x-python",
   "name": "python",
   "nbconvert_exporter": "python",
   "pygments_lexer": "ipython3",
   "version": "3.12.4"
  }
 },
 "nbformat": 4,
 "nbformat_minor": 5
}
