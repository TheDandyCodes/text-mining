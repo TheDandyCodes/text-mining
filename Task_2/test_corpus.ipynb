{
 "cells": [
  {
   "cell_type": "code",
   "execution_count": null,
   "id": "2bb9aa29",
   "metadata": {},
   "outputs": [
    {
     "name": "stdout",
     "output_type": "stream",
     "text": [
      "The autoreload extension is already loaded. To reload it, use:\n",
      "  %reload_ext autoreload\n"
     ]
    }
   ],
   "source": [
    "# Configuration to automatically reload modified modules\n",
    "%load_ext autoreload\n",
    "%autoreload 2\n",
    "\n",
    "# This allows changes in imported modules to be reflected automatically\n",
    "# without needing to restart the kernel"
   ]
  },
  {
   "cell_type": "code",
   "execution_count": 224,
   "id": "02563802",
   "metadata": {},
   "outputs": [],
   "source": [
    "import nltk\n",
    "import pandas as pd\n",
    "from nltk.corpus import treebank\n",
    "from pos_spacy import spacy_pos\n",
    "from standford_pos_nltk import stanford_pos\n",
    "from test_corpus import (\n",
    "    accuracy,\n",
    "    compare_pos_taggers,\n",
    "    drop_traces_tagged,\n",
    "    extract_raw_text,\n",
    "    extract_tokens_from_gold,\n",
    ")\n",
    "\n",
    "\n",
    "# Check if treebank corpus is available, if not, download it\n",
    "try:\n",
    "    treebank.tagged_sents()\n",
    "except LookupError:\n",
    "    print(\"Downloading NLTK treebank corpus...\")\n",
    "    nltk.download(\"treebank\")"
   ]
  },
  {
   "cell_type": "code",
   "execution_count": 225,
   "id": "d1eec205",
   "metadata": {},
   "outputs": [],
   "source": [
    "gold = treebank.tagged_sents()[:15]  # POS PTB\n",
    "gold_no_traces = drop_traces_tagged(gold)"
   ]
  },
  {
   "cell_type": "code",
   "execution_count": 226,
   "id": "3903bd80",
   "metadata": {},
   "outputs": [
    {
     "data": {
      "text/plain": [
       "\"Pierre Vinken, 61 years old, will join the board as a nonexecutive director Nov. 29. Mr. Vinken is chairman of Elsevier N.V., the Dutch publishing group. Rudolph Agnew, 55 years old and former chairman of Consolidated Gold Fields PLC, was named a nonexecutive director of this British industrial conglomerate. A form of asbestos once used to make Kent cigarette filters has caused a high percentage of cancer deaths among a group of workers exposed to it more than 30 years ago, researchers reported. The asbestos fiber, crocidolite, is unusually resilient once it enters the lungs, with even brief exposures to it causing symptoms that show up decades later, researchers said. Lorillard Inc., the unit of New York-based Loews Corp. that makes Kent cigarettes, stopped using crocidolite in its Micronite cigarette filters in 1956. Although preliminary findings were reported more than a year ago, the latest results appear in today 's New England Journal of Medicine, a forum likely to bring new attention to the problem. A Lorillard spokewoman said, `` This is an old story. We 're talking about years ago before anyone heard of asbestos having any questionable properties. There is no asbestos in our products now. '' Neither Lorillard nor the researchers who studied the workers were aware of any research on smokers of the Kent cigarettes. `` We have no useful information on whether users are at risk, '' said James A. Talcott of Boston 's Dana-Farber Cancer Institute. Dr. Talcott led a team of researchers from the National Cancer Institute and the medical schools of Harvard University and Boston University. The Lorillard spokeswoman said asbestos was used in `` very modest amounts '' in making paper for the filters in the early 1950s and replaced with a different type of filter in 1956. From 1953 to 1955, 9.8 billion Kent cigarettes with the filters were sold, the company said.\""
      ]
     },
     "execution_count": 226,
     "metadata": {},
     "output_type": "execute_result"
    }
   ],
   "source": [
    "extract_raw_text(gold_no_traces)"
   ]
  },
  {
   "cell_type": "code",
   "execution_count": 227,
   "id": "df35a489",
   "metadata": {},
   "outputs": [],
   "source": [
    "# Tokenize the raw text for both taggers\n",
    "tokenized_text = extract_tokens_from_gold(gold_no_traces)"
   ]
  },
  {
   "cell_type": "code",
   "execution_count": 228,
   "id": "7b2f6591",
   "metadata": {},
   "outputs": [],
   "source": [
    "pos_tag_output_st_nltk = stanford_pos(tokenized_text)\n",
    "pos_tag_output_spacy = spacy_pos(tokenized_text)\n",
    "mismatches = compare_pos_taggers(pos_tag_output_st_nltk, pos_tag_output_spacy)"
   ]
  },
  {
   "cell_type": "code",
   "execution_count": 229,
   "id": "dfc24894",
   "metadata": {},
   "outputs": [
    {
     "data": {
      "application/vnd.microsoft.datawrangler.viewer.v0+json": {
       "columns": [
        {
         "name": "index",
         "rawType": "int64",
         "type": "integer"
        },
        {
         "name": "word1",
         "rawType": "object",
         "type": "string"
        },
        {
         "name": "tag1",
         "rawType": "object",
         "type": "string"
        },
        {
         "name": "word2",
         "rawType": "object",
         "type": "string"
        },
        {
         "name": "tag2",
         "rawType": "object",
         "type": "string"
        }
       ],
       "ref": "5317eacf-f973-45c1-9bfb-79a1bde99c34",
       "rows": [
        [
         "0",
         "used",
         "VBD",
         "used",
         "VBN"
        ],
        [
         "1",
         "Neither",
         "CC",
         "Neither",
         "DT"
        ],
        [
         "2",
         "replaced",
         "VBN",
         "replaced",
         "VBD"
        ]
       ],
       "shape": {
        "columns": 4,
        "rows": 3
       }
      },
      "text/html": [
       "<div>\n",
       "<style scoped>\n",
       "    .dataframe tbody tr th:only-of-type {\n",
       "        vertical-align: middle;\n",
       "    }\n",
       "\n",
       "    .dataframe tbody tr th {\n",
       "        vertical-align: top;\n",
       "    }\n",
       "\n",
       "    .dataframe thead th {\n",
       "        text-align: right;\n",
       "    }\n",
       "</style>\n",
       "<table border=\"1\" class=\"dataframe\">\n",
       "  <thead>\n",
       "    <tr style=\"text-align: right;\">\n",
       "      <th></th>\n",
       "      <th>word1</th>\n",
       "      <th>tag1</th>\n",
       "      <th>word2</th>\n",
       "      <th>tag2</th>\n",
       "    </tr>\n",
       "  </thead>\n",
       "  <tbody>\n",
       "    <tr>\n",
       "      <th>0</th>\n",
       "      <td>used</td>\n",
       "      <td>VBD</td>\n",
       "      <td>used</td>\n",
       "      <td>VBN</td>\n",
       "    </tr>\n",
       "    <tr>\n",
       "      <th>1</th>\n",
       "      <td>Neither</td>\n",
       "      <td>CC</td>\n",
       "      <td>Neither</td>\n",
       "      <td>DT</td>\n",
       "    </tr>\n",
       "    <tr>\n",
       "      <th>2</th>\n",
       "      <td>replaced</td>\n",
       "      <td>VBN</td>\n",
       "      <td>replaced</td>\n",
       "      <td>VBD</td>\n",
       "    </tr>\n",
       "  </tbody>\n",
       "</table>\n",
       "</div>"
      ],
      "text/plain": [
       "      word1 tag1     word2 tag2\n",
       "0      used  VBD      used  VBN\n",
       "1   Neither   CC   Neither   DT\n",
       "2  replaced  VBN  replaced  VBD"
      ]
     },
     "execution_count": 229,
     "metadata": {},
     "output_type": "execute_result"
    }
   ],
   "source": [
    "pd.DataFrame(mismatches).drop_duplicates()"
   ]
  },
  {
   "cell_type": "code",
   "execution_count": 230,
   "id": "80c82941",
   "metadata": {},
   "outputs": [],
   "source": [
    "# Accuracy (Stanford NLTK): 0.9451\n",
    "# Accuracy (spaCy): 0.9480"
   ]
  },
  {
   "cell_type": "code",
   "execution_count": 231,
   "id": "bfbf8583",
   "metadata": {},
   "outputs": [
    {
     "name": "stdout",
     "output_type": "stream",
     "text": [
      "Accuracy (Stanford NLTK): 0.9451\n",
      "Accuracy (spaCy): 0.9480\n"
     ]
    }
   ],
   "source": [
    "acc_st_nltk, mismatches_st_nltk = accuracy(\n",
    "    pos_tag_output_st_nltk, gold_no_traces, return_mismatches=True\n",
    ")  # type: ignore\n",
    "acc_spacy, mismatches_spacy = accuracy(pos_tag_output_spacy, gold_no_traces, return_mismatches=True)  # type: ignore\n",
    "print(f\"Accuracy (Stanford NLTK): {acc_st_nltk:.4f}\")\n",
    "print(f\"Accuracy (spaCy): {acc_spacy:.4f}\")"
   ]
  },
  {
   "cell_type": "code",
   "execution_count": 232,
   "id": "fab289b0",
   "metadata": {},
   "outputs": [],
   "source": [
    "mismatches_st_nltk_df = pd.DataFrame(mismatches_st_nltk).drop_duplicates()\n",
    "mismatches_spacy_df = pd.DataFrame(mismatches_spacy).drop_duplicates()"
   ]
  },
  {
   "cell_type": "code",
   "execution_count": 235,
   "id": "882a9b00",
   "metadata": {},
   "outputs": [
    {
     "data": {
      "application/vnd.microsoft.datawrangler.viewer.v0+json": {
       "columns": [
        {
         "name": "index",
         "rawType": "int64",
         "type": "integer"
        },
        {
         "name": "word",
         "rawType": "object",
         "type": "string"
        },
        {
         "name": "model_tag",
         "rawType": "object",
         "type": "string"
        },
        {
         "name": "gold_word",
         "rawType": "object",
         "type": "string"
        },
        {
         "name": "gold_tag",
         "rawType": "object",
         "type": "string"
        }
       ],
       "ref": "9470df0a-14ab-4c9a-822f-32b97f1644a7",
       "rows": [
        [
         "0",
         "Dutch",
         "JJ",
         "Dutch",
         "NNP"
        ],
        [
         "1",
         "publishing",
         "NN",
         "publishing",
         "VBG"
        ],
        [
         "2",
         "to",
         "IN",
         "to",
         "TO"
        ],
        [
         "3",
         "more",
         "JJR",
         "more",
         "RBR"
        ],
        [
         "4",
         "ago",
         "RB",
         "ago",
         "IN"
        ],
        [
         "6",
         "later",
         "RB",
         "later",
         "JJ"
        ],
        [
         "7",
         "New",
         "NNP",
         "New",
         "JJ"
        ],
        [
         "8",
         "York-based",
         "NNP",
         "York-based",
         "JJ"
        ],
        [
         "9",
         "Micronite",
         "NNP",
         "Micronite",
         "NN"
        ],
        [
         "14",
         "heard",
         "VBN",
         "heard",
         "VBD"
        ],
        [
         "15",
         "1950s",
         "NNS",
         "1950s",
         "CD"
        ],
        [
         "16",
         "replaced",
         "VBD",
         "replaced",
         "VBN"
        ]
       ],
       "shape": {
        "columns": 4,
        "rows": 12
       }
      },
      "text/html": [
       "<div>\n",
       "<style scoped>\n",
       "    .dataframe tbody tr th:only-of-type {\n",
       "        vertical-align: middle;\n",
       "    }\n",
       "\n",
       "    .dataframe tbody tr th {\n",
       "        vertical-align: top;\n",
       "    }\n",
       "\n",
       "    .dataframe thead th {\n",
       "        text-align: right;\n",
       "    }\n",
       "</style>\n",
       "<table border=\"1\" class=\"dataframe\">\n",
       "  <thead>\n",
       "    <tr style=\"text-align: right;\">\n",
       "      <th></th>\n",
       "      <th>word</th>\n",
       "      <th>model_tag</th>\n",
       "      <th>gold_word</th>\n",
       "      <th>gold_tag</th>\n",
       "    </tr>\n",
       "  </thead>\n",
       "  <tbody>\n",
       "    <tr>\n",
       "      <th>0</th>\n",
       "      <td>Dutch</td>\n",
       "      <td>JJ</td>\n",
       "      <td>Dutch</td>\n",
       "      <td>NNP</td>\n",
       "    </tr>\n",
       "    <tr>\n",
       "      <th>1</th>\n",
       "      <td>publishing</td>\n",
       "      <td>NN</td>\n",
       "      <td>publishing</td>\n",
       "      <td>VBG</td>\n",
       "    </tr>\n",
       "    <tr>\n",
       "      <th>2</th>\n",
       "      <td>to</td>\n",
       "      <td>IN</td>\n",
       "      <td>to</td>\n",
       "      <td>TO</td>\n",
       "    </tr>\n",
       "    <tr>\n",
       "      <th>3</th>\n",
       "      <td>more</td>\n",
       "      <td>JJR</td>\n",
       "      <td>more</td>\n",
       "      <td>RBR</td>\n",
       "    </tr>\n",
       "    <tr>\n",
       "      <th>4</th>\n",
       "      <td>ago</td>\n",
       "      <td>RB</td>\n",
       "      <td>ago</td>\n",
       "      <td>IN</td>\n",
       "    </tr>\n",
       "    <tr>\n",
       "      <th>6</th>\n",
       "      <td>later</td>\n",
       "      <td>RB</td>\n",
       "      <td>later</td>\n",
       "      <td>JJ</td>\n",
       "    </tr>\n",
       "    <tr>\n",
       "      <th>7</th>\n",
       "      <td>New</td>\n",
       "      <td>NNP</td>\n",
       "      <td>New</td>\n",
       "      <td>JJ</td>\n",
       "    </tr>\n",
       "    <tr>\n",
       "      <th>8</th>\n",
       "      <td>York-based</td>\n",
       "      <td>NNP</td>\n",
       "      <td>York-based</td>\n",
       "      <td>JJ</td>\n",
       "    </tr>\n",
       "    <tr>\n",
       "      <th>9</th>\n",
       "      <td>Micronite</td>\n",
       "      <td>NNP</td>\n",
       "      <td>Micronite</td>\n",
       "      <td>NN</td>\n",
       "    </tr>\n",
       "    <tr>\n",
       "      <th>14</th>\n",
       "      <td>heard</td>\n",
       "      <td>VBN</td>\n",
       "      <td>heard</td>\n",
       "      <td>VBD</td>\n",
       "    </tr>\n",
       "    <tr>\n",
       "      <th>15</th>\n",
       "      <td>1950s</td>\n",
       "      <td>NNS</td>\n",
       "      <td>1950s</td>\n",
       "      <td>CD</td>\n",
       "    </tr>\n",
       "    <tr>\n",
       "      <th>16</th>\n",
       "      <td>replaced</td>\n",
       "      <td>VBD</td>\n",
       "      <td>replaced</td>\n",
       "      <td>VBN</td>\n",
       "    </tr>\n",
       "  </tbody>\n",
       "</table>\n",
       "</div>"
      ],
      "text/plain": [
       "          word model_tag   gold_word gold_tag\n",
       "0        Dutch        JJ       Dutch      NNP\n",
       "1   publishing        NN  publishing      VBG\n",
       "2           to        IN          to       TO\n",
       "3         more       JJR        more      RBR\n",
       "4          ago        RB         ago       IN\n",
       "6        later        RB       later       JJ\n",
       "7          New       NNP         New       JJ\n",
       "8   York-based       NNP  York-based       JJ\n",
       "9    Micronite       NNP   Micronite       NN\n",
       "14       heard       VBN       heard      VBD\n",
       "15       1950s       NNS       1950s       CD\n",
       "16    replaced       VBD    replaced      VBN"
      ]
     },
     "execution_count": 235,
     "metadata": {},
     "output_type": "execute_result"
    }
   ],
   "source": [
    "mismatches_spacy_df"
   ]
  },
  {
   "cell_type": "code",
   "execution_count": 234,
   "id": "956c3f78",
   "metadata": {},
   "outputs": [
    {
     "data": {
      "application/vnd.microsoft.datawrangler.viewer.v0+json": {
       "columns": [
        {
         "name": "index",
         "rawType": "int64",
         "type": "integer"
        },
        {
         "name": "word",
         "rawType": "object",
         "type": "string"
        },
        {
         "name": "model_tag",
         "rawType": "object",
         "type": "string"
        },
        {
         "name": "gold_word",
         "rawType": "object",
         "type": "string"
        },
        {
         "name": "gold_tag",
         "rawType": "object",
         "type": "string"
        }
       ],
       "ref": "54f41512-e010-4a50-8f23-926ff38c5f89",
       "rows": [
        [
         "0",
         "Dutch",
         "JJ",
         "Dutch",
         "NNP"
        ],
        [
         "1",
         "publishing",
         "NN",
         "publishing",
         "VBG"
        ],
        [
         "2",
         "to",
         "IN",
         "to",
         "TO"
        ],
        [
         "3",
         "more",
         "JJR",
         "more",
         "RBR"
        ],
        [
         "4",
         "ago",
         "RB",
         "ago",
         "IN"
        ],
        [
         "6",
         "later",
         "RB",
         "later",
         "JJ"
        ],
        [
         "7",
         "New",
         "NNP",
         "New",
         "JJ"
        ],
        [
         "8",
         "York-based",
         "NNP",
         "York-based",
         "JJ"
        ],
        [
         "9",
         "Micronite",
         "NNP",
         "Micronite",
         "NN"
        ],
        [
         "14",
         "heard",
         "VBN",
         "heard",
         "VBD"
        ],
        [
         "15",
         "1950s",
         "NNS",
         "1950s",
         "CD"
        ],
        [
         "16",
         "replaced",
         "VBD",
         "replaced",
         "VBN"
        ]
       ],
       "shape": {
        "columns": 4,
        "rows": 12
       }
      },
      "text/html": [
       "<div>\n",
       "<style scoped>\n",
       "    .dataframe tbody tr th:only-of-type {\n",
       "        vertical-align: middle;\n",
       "    }\n",
       "\n",
       "    .dataframe tbody tr th {\n",
       "        vertical-align: top;\n",
       "    }\n",
       "\n",
       "    .dataframe thead th {\n",
       "        text-align: right;\n",
       "    }\n",
       "</style>\n",
       "<table border=\"1\" class=\"dataframe\">\n",
       "  <thead>\n",
       "    <tr style=\"text-align: right;\">\n",
       "      <th></th>\n",
       "      <th>word</th>\n",
       "      <th>model_tag</th>\n",
       "      <th>gold_word</th>\n",
       "      <th>gold_tag</th>\n",
       "    </tr>\n",
       "  </thead>\n",
       "  <tbody>\n",
       "    <tr>\n",
       "      <th>0</th>\n",
       "      <td>Dutch</td>\n",
       "      <td>JJ</td>\n",
       "      <td>Dutch</td>\n",
       "      <td>NNP</td>\n",
       "    </tr>\n",
       "    <tr>\n",
       "      <th>1</th>\n",
       "      <td>publishing</td>\n",
       "      <td>NN</td>\n",
       "      <td>publishing</td>\n",
       "      <td>VBG</td>\n",
       "    </tr>\n",
       "    <tr>\n",
       "      <th>2</th>\n",
       "      <td>to</td>\n",
       "      <td>IN</td>\n",
       "      <td>to</td>\n",
       "      <td>TO</td>\n",
       "    </tr>\n",
       "    <tr>\n",
       "      <th>3</th>\n",
       "      <td>more</td>\n",
       "      <td>JJR</td>\n",
       "      <td>more</td>\n",
       "      <td>RBR</td>\n",
       "    </tr>\n",
       "    <tr>\n",
       "      <th>4</th>\n",
       "      <td>ago</td>\n",
       "      <td>RB</td>\n",
       "      <td>ago</td>\n",
       "      <td>IN</td>\n",
       "    </tr>\n",
       "    <tr>\n",
       "      <th>6</th>\n",
       "      <td>later</td>\n",
       "      <td>RB</td>\n",
       "      <td>later</td>\n",
       "      <td>JJ</td>\n",
       "    </tr>\n",
       "    <tr>\n",
       "      <th>7</th>\n",
       "      <td>New</td>\n",
       "      <td>NNP</td>\n",
       "      <td>New</td>\n",
       "      <td>JJ</td>\n",
       "    </tr>\n",
       "    <tr>\n",
       "      <th>8</th>\n",
       "      <td>York-based</td>\n",
       "      <td>NNP</td>\n",
       "      <td>York-based</td>\n",
       "      <td>JJ</td>\n",
       "    </tr>\n",
       "    <tr>\n",
       "      <th>9</th>\n",
       "      <td>Micronite</td>\n",
       "      <td>NNP</td>\n",
       "      <td>Micronite</td>\n",
       "      <td>NN</td>\n",
       "    </tr>\n",
       "    <tr>\n",
       "      <th>14</th>\n",
       "      <td>heard</td>\n",
       "      <td>VBN</td>\n",
       "      <td>heard</td>\n",
       "      <td>VBD</td>\n",
       "    </tr>\n",
       "    <tr>\n",
       "      <th>15</th>\n",
       "      <td>1950s</td>\n",
       "      <td>NNS</td>\n",
       "      <td>1950s</td>\n",
       "      <td>CD</td>\n",
       "    </tr>\n",
       "    <tr>\n",
       "      <th>16</th>\n",
       "      <td>replaced</td>\n",
       "      <td>VBD</td>\n",
       "      <td>replaced</td>\n",
       "      <td>VBN</td>\n",
       "    </tr>\n",
       "  </tbody>\n",
       "</table>\n",
       "</div>"
      ],
      "text/plain": [
       "          word model_tag   gold_word gold_tag\n",
       "0        Dutch        JJ       Dutch      NNP\n",
       "1   publishing        NN  publishing      VBG\n",
       "2           to        IN          to       TO\n",
       "3         more       JJR        more      RBR\n",
       "4          ago        RB         ago       IN\n",
       "6        later        RB       later       JJ\n",
       "7          New       NNP         New       JJ\n",
       "8   York-based       NNP  York-based       JJ\n",
       "9    Micronite       NNP   Micronite       NN\n",
       "14       heard       VBN       heard      VBD\n",
       "15       1950s       NNS       1950s       CD\n",
       "16    replaced       VBD    replaced      VBN"
      ]
     },
     "execution_count": 234,
     "metadata": {},
     "output_type": "execute_result"
    }
   ],
   "source": [
    "mismatches_spacy_df"
   ]
  }
 ],
 "metadata": {
  "kernelspec": {
   "display_name": "text-mining",
   "language": "python",
   "name": "python3"
  },
  "language_info": {
   "codemirror_mode": {
    "name": "ipython",
    "version": 3
   },
   "file_extension": ".py",
   "mimetype": "text/x-python",
   "name": "python",
   "nbconvert_exporter": "python",
   "pygments_lexer": "ipython3",
   "version": "3.12.4"
  }
 },
 "nbformat": 4,
 "nbformat_minor": 5
}
