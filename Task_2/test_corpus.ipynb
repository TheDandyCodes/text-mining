{
 "cells": [
  {
   "cell_type": "code",
   "execution_count": 112,
   "id": "2bb9aa29",
   "metadata": {},
   "outputs": [
    {
     "name": "stdout",
     "output_type": "stream",
     "text": [
      "The autoreload extension is already loaded. To reload it, use:\n",
      "  %reload_ext autoreload\n"
     ]
    }
   ],
   "source": [
    "# Configuration to automatically reload modified modules\n",
    "%load_ext autoreload\n",
    "%autoreload 2\n",
    "\n",
    "# This allows changes in imported modules to be reflected automatically\n",
    "# without needing to restart the kernel"
   ]
  },
  {
   "cell_type": "code",
   "execution_count": 121,
   "id": "02563802",
   "metadata": {},
   "outputs": [],
   "source": [
    "import nltk\n",
    "import pandas as pd\n",
    "from nltk.corpus import treebank\n",
    "from pos_spacy import spacy_pos\n",
    "from standford_pos_nltk import stanford_pos\n",
    "from test_corpus import compare_pos_taggers, extract_raw_text, extract_tokens_from_gold, accuracy\n",
    "\n",
    "# Check if treebank corpus is available, if not, download it\n",
    "try:\n",
    "    treebank.tagged_sents()\n",
    "except LookupError:\n",
    "    print(\"Downloading NLTK treebank corpus...\")\n",
    "    nltk.download(\"treebank\")"
   ]
  },
  {
   "cell_type": "code",
   "execution_count": 114,
   "id": "d1eec205",
   "metadata": {},
   "outputs": [],
   "source": [
    "gold = treebank.tagged_sents()  # POS PTB"
   ]
  },
  {
   "cell_type": "code",
   "execution_count": 115,
   "id": "3bd2db85",
   "metadata": {},
   "outputs": [],
   "source": [
    "raw_text = extract_raw_text(gold)[:500]"
   ]
  },
  {
   "cell_type": "code",
   "execution_count": 117,
   "id": "df35a489",
   "metadata": {},
   "outputs": [],
   "source": [
    "# Tokenize the raw text for both taggers\n",
    "tokenized_text = extract_tokens_from_gold(gold)"
   ]
  },
  {
   "cell_type": "code",
   "execution_count": 124,
   "id": "7b2f6591",
   "metadata": {},
   "outputs": [],
   "source": [
    "pos_tag_output_st_nltk = stanford_pos(tokenized_text)\n",
    "pos_tag_output_spacy = spacy_pos(tokenized_text)\n",
    "mismatches = compare_pos_taggers(pos_tag_output_st_nltk, pos_tag_output_spacy)"
   ]
  },
  {
   "cell_type": "code",
   "execution_count": 119,
   "id": "dfc24894",
   "metadata": {},
   "outputs": [
    {
     "data": {
      "application/vnd.microsoft.datawrangler.viewer.v0+json": {
       "columns": [
        {
         "name": "index",
         "rawType": "int64",
         "type": "integer"
        },
        {
         "name": "word1",
         "rawType": "object",
         "type": "string"
        },
        {
         "name": "tag1",
         "rawType": "object",
         "type": "string"
        },
        {
         "name": "word2",
         "rawType": "object",
         "type": "string"
        },
        {
         "name": "tag2",
         "rawType": "object",
         "type": "string"
        }
       ],
       "ref": "e71760e5-df21-401d-9aaa-32118078f7d3",
       "rows": [
        [
         "0",
         "*-1",
         "CD",
         "*-1",
         "NNP"
        ],
        [
         "1",
         "*T*-1",
         "NN",
         "*T*-1",
         "UH"
        ],
        [
         "2",
         "*T*-1",
         "NN",
         "*T*-1",
         "RB"
        ],
        [
         "3",
         "*T*-2",
         "NN",
         "*T*-2",
         "UH"
        ],
        [
         "4",
         "that",
         "WDT",
         "that",
         "IN"
        ],
        [
         "5",
         "*T*-2",
         "NN",
         "*T*-2",
         "NNP"
        ],
        [
         "6",
         "*-2",
         "CD",
         "*-2",
         "NNP"
        ],
        [
         "7",
         "Neither",
         "CC",
         "Neither",
         "DT"
        ],
        [
         "8",
         "*T*-3",
         "VBP",
         "*T*-3",
         "NNP"
        ],
        [
         "9",
         "studied",
         "VBN",
         "studied",
         "VBD"
        ],
        [
         "10",
         "*T*-1",
         "NNP",
         "*T*-1",
         "UH"
        ],
        [
         "11",
         "*-1",
         "NN",
         "*-1",
         "RB"
        ],
        [
         "12",
         "*-1",
         "NN",
         "*-1",
         "NNP"
        ],
        [
         "13",
         "*-3",
         "CD",
         "*-3",
         "JJ"
        ],
        [
         "15",
         "*T*-4",
         "VBP",
         "*T*-4",
         "NNP"
        ],
        [
         "16",
         "worked",
         "VBN",
         "worked",
         "VBD"
        ],
        [
         "17",
         "*ICH*-1",
         "NN",
         "*ICH*-1",
         "NNS"
        ],
        [
         "18",
         "asbestos-related",
         "VBN",
         "asbestos-related",
         "JJ"
        ],
        [
         "19",
         "*?*",
         "NN",
         "*?*",
         "NNP"
        ],
        [
         "21",
         "*T*-5",
         "VBP",
         "*T*-5",
         "NNP"
        ],
        [
         "22",
         "study",
         "NN",
         "study",
         "VB"
        ],
        [
         "25",
         "*",
         "NFP",
         "*",
         ":"
        ],
        [
         "26",
         "industrialized",
         "JJ",
         "industrialized",
         "VBN"
        ],
        [
         "28",
         "*-4",
         "CD",
         "*-4",
         "NN"
        ],
        [
         "29",
         "*",
         "NFP",
         "*",
         ","
        ],
        [
         "30",
         "*T*-6",
         "VBP",
         "*T*-6",
         "NNP"
        ],
        [
         "31",
         "crocidolite",
         "NN",
         "crocidolite",
         "VB"
        ],
        [
         "34",
         "*T*-7",
         "NN",
         "*T*-7",
         "UH"
        ],
        [
         "36",
         "*-5",
         "NN",
         "*-5",
         "NNP"
        ],
        [
         "39",
         "cancer-causing",
         "VBG",
         "cancer-causing",
         "JJ"
        ],
        [
         "40",
         "*-6",
         "NN",
         "*-6",
         "NNP"
        ],
        [
         "41",
         "*T*-8",
         "NN",
         "*T*-8",
         "NNP"
        ],
        [
         "42",
         "*-7",
         "NN",
         "*-7",
         "NNP"
        ],
        [
         "43",
         "*-8",
         "CD",
         "*-8",
         "NNP"
        ],
        [
         "45",
         "in",
         "IN",
         "in",
         "RP"
        ],
        [
         "46",
         "mixed",
         "VBN",
         "mixed",
         "VBD"
        ],
        [
         "47",
         "used",
         "VBN",
         "used",
         "VBD"
        ],
        [
         "48",
         "described",
         "VBN",
         "described",
         "VBD"
        ],
        [
         "49",
         "*T*-1",
         "NN",
         "*T*-1",
         "NNP"
        ],
        [
         "50",
         "over",
         "IN",
         "over",
         "RP"
        ],
        [
         "51",
         "contracted",
         "VBN",
         "contracted",
         "VBD"
        ],
        [
         "53",
         "*-1",
         "NN",
         "*-1",
         "VBN"
        ],
        [
         "54",
         "money-market",
         "NN",
         "money-market",
         "JJ"
        ],
        [
         "56",
         "to",
         "IN",
         "to",
         "TO"
        ],
        [
         "57",
         "slide",
         "NN",
         "slide",
         "VB"
        ],
        [
         "58",
         "ended",
         "VBD",
         "ended",
         "VBN"
        ],
        [
         "60",
         "Shorter",
         "JJR",
         "Shorter",
         "JJ"
        ],
        [
         "61",
         "*-9",
         "CD",
         "*-9",
         "NNP"
        ],
        [
         "62",
         "*T*-1",
         "NNP",
         "*T*-1",
         "CD"
        ],
        [
         "63",
         "blip",
         "NN",
         "blip",
         "VB"
        ]
       ],
       "shape": {
        "columns": 4,
        "rows": 2524
       }
      },
      "text/html": [
       "<div>\n",
       "<style scoped>\n",
       "    .dataframe tbody tr th:only-of-type {\n",
       "        vertical-align: middle;\n",
       "    }\n",
       "\n",
       "    .dataframe tbody tr th {\n",
       "        vertical-align: top;\n",
       "    }\n",
       "\n",
       "    .dataframe thead th {\n",
       "        text-align: right;\n",
       "    }\n",
       "</style>\n",
       "<table border=\"1\" class=\"dataframe\">\n",
       "  <thead>\n",
       "    <tr style=\"text-align: right;\">\n",
       "      <th></th>\n",
       "      <th>word1</th>\n",
       "      <th>tag1</th>\n",
       "      <th>word2</th>\n",
       "      <th>tag2</th>\n",
       "    </tr>\n",
       "  </thead>\n",
       "  <tbody>\n",
       "    <tr>\n",
       "      <th>0</th>\n",
       "      <td>*-1</td>\n",
       "      <td>CD</td>\n",
       "      <td>*-1</td>\n",
       "      <td>NNP</td>\n",
       "    </tr>\n",
       "    <tr>\n",
       "      <th>1</th>\n",
       "      <td>*T*-1</td>\n",
       "      <td>NN</td>\n",
       "      <td>*T*-1</td>\n",
       "      <td>UH</td>\n",
       "    </tr>\n",
       "    <tr>\n",
       "      <th>2</th>\n",
       "      <td>*T*-1</td>\n",
       "      <td>NN</td>\n",
       "      <td>*T*-1</td>\n",
       "      <td>RB</td>\n",
       "    </tr>\n",
       "    <tr>\n",
       "      <th>3</th>\n",
       "      <td>*T*-2</td>\n",
       "      <td>NN</td>\n",
       "      <td>*T*-2</td>\n",
       "      <td>UH</td>\n",
       "    </tr>\n",
       "    <tr>\n",
       "      <th>4</th>\n",
       "      <td>that</td>\n",
       "      <td>WDT</td>\n",
       "      <td>that</td>\n",
       "      <td>IN</td>\n",
       "    </tr>\n",
       "    <tr>\n",
       "      <th>...</th>\n",
       "      <td>...</td>\n",
       "      <td>...</td>\n",
       "      <td>...</td>\n",
       "      <td>...</td>\n",
       "    </tr>\n",
       "    <tr>\n",
       "      <th>6739</th>\n",
       "      <td>president</td>\n",
       "      <td>NN</td>\n",
       "      <td>president</td>\n",
       "      <td>NNP</td>\n",
       "    </tr>\n",
       "    <tr>\n",
       "      <th>6740</th>\n",
       "      <td>liberal</td>\n",
       "      <td>JJ</td>\n",
       "      <td>liberal</td>\n",
       "      <td>NN</td>\n",
       "    </tr>\n",
       "    <tr>\n",
       "      <th>6742</th>\n",
       "      <td>*PPA*-1</td>\n",
       "      <td>NN</td>\n",
       "      <td>*PPA*-1</td>\n",
       "      <td>CC</td>\n",
       "    </tr>\n",
       "    <tr>\n",
       "      <th>6743</th>\n",
       "      <td>line-item</td>\n",
       "      <td>JJ</td>\n",
       "      <td>line-item</td>\n",
       "      <td>NN</td>\n",
       "    </tr>\n",
       "    <tr>\n",
       "      <th>6748</th>\n",
       "      <td>Trinity</td>\n",
       "      <td>NNP</td>\n",
       "      <td>Trinity</td>\n",
       "      <td>NN</td>\n",
       "    </tr>\n",
       "  </tbody>\n",
       "</table>\n",
       "<p>2524 rows × 4 columns</p>\n",
       "</div>"
      ],
      "text/plain": [
       "          word1 tag1      word2 tag2\n",
       "0           *-1   CD        *-1  NNP\n",
       "1         *T*-1   NN      *T*-1   UH\n",
       "2         *T*-1   NN      *T*-1   RB\n",
       "3         *T*-2   NN      *T*-2   UH\n",
       "4          that  WDT       that   IN\n",
       "...         ...  ...        ...  ...\n",
       "6739  president   NN  president  NNP\n",
       "6740    liberal   JJ    liberal   NN\n",
       "6742    *PPA*-1   NN    *PPA*-1   CC\n",
       "6743  line-item   JJ  line-item   NN\n",
       "6748    Trinity  NNP    Trinity   NN\n",
       "\n",
       "[2524 rows x 4 columns]"
      ]
     },
     "execution_count": 119,
     "metadata": {},
     "output_type": "execute_result"
    }
   ],
   "source": [
    "pd.DataFrame(mismatches).drop_duplicates()"
   ]
  },
  {
   "cell_type": "code",
   "execution_count": 125,
   "id": "bfbf8583",
   "metadata": {},
   "outputs": [
    {
     "name": "stdout",
     "output_type": "stream",
     "text": [
      "Accuracy (Stanford NLTK): 0.8892\n",
      "Accuracy (spaCy): 0.8928\n"
     ]
    }
   ],
   "source": [
    "acc_st_nltk = accuracy(pos_tag_output_st_nltk, gold)\n",
    "acc_spacy = accuracy(pos_tag_output_spacy, gold)\n",
    "print(f\"Accuracy (Stanford NLTK): {acc_st_nltk:.4f}\")\n",
    "print(f\"Accuracy (spaCy): {acc_spacy:.4f}\")"
   ]
  }
 ],
 "metadata": {
  "kernelspec": {
   "display_name": "text-mining",
   "language": "python",
   "name": "python3"
  },
  "language_info": {
   "codemirror_mode": {
    "name": "ipython",
    "version": 3
   },
   "file_extension": ".py",
   "mimetype": "text/x-python",
   "name": "python",
   "nbconvert_exporter": "python",
   "pygments_lexer": "ipython3",
   "version": "3.12.4"
  }
 },
 "nbformat": 4,
 "nbformat_minor": 5
}
