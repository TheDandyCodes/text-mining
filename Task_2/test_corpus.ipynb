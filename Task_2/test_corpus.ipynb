{
 "cells": [
  {
   "cell_type": "code",
   "execution_count": 112,
   "id": "2bb9aa29",
   "metadata": {},
   "outputs": [
    {
     "name": "stdout",
     "output_type": "stream",
     "text": [
      "The autoreload extension is already loaded. To reload it, use:\n",
      "  %reload_ext autoreload\n"
     ]
    }
   ],
   "source": [
    "# Configuration to automatically reload modified modules\n",
    "%load_ext autoreload\n",
    "%autoreload 2\n",
    "\n",
    "# This allows changes in imported modules to be reflected automatically\n",
    "# without needing to restart the kernel"
   ]
  },
  {
   "cell_type": "code",
   "execution_count": 121,
   "id": "02563802",
   "metadata": {},
   "outputs": [],
   "source": [
    "import nltk\n",
    "import pandas as pd\n",
    "from nltk.corpus import treebank\n",
    "from pos_spacy import spacy_pos\n",
    "from standford_pos_nltk import stanford_pos\n",
    "from test_corpus import accuracy, compare_pos_taggers, extract_raw_text, extract_tokens_from_gold\n",
    "\n",
    "\n",
    "# Check if treebank corpus is available, if not, download it\n",
    "try:\n",
    "    treebank.tagged_sents()\n",
    "except LookupError:\n",
    "    print(\"Downloading NLTK treebank corpus...\")\n",
    "    nltk.download(\"treebank\")"
   ]
  },
  {
   "cell_type": "code",
   "execution_count": 133,
   "id": "d1eec205",
   "metadata": {},
   "outputs": [],
   "source": [
    "gold = treebank.tagged_sents()[:15]  # POS PTB"
   ]
  },
  {
   "cell_type": "code",
   "execution_count": 134,
   "id": "3bd2db85",
   "metadata": {},
   "outputs": [],
   "source": [
    "raw_text = extract_raw_text(gold)"
   ]
  },
  {
   "cell_type": "code",
   "execution_count": 135,
   "id": "df35a489",
   "metadata": {},
   "outputs": [],
   "source": [
    "# Tokenize the raw text for both taggers\n",
    "tokenized_text = extract_tokens_from_gold(gold)"
   ]
  },
  {
   "cell_type": "code",
   "execution_count": 136,
   "id": "7b2f6591",
   "metadata": {},
   "outputs": [],
   "source": [
    "pos_tag_output_st_nltk = stanford_pos(tokenized_text)\n",
    "pos_tag_output_spacy = spacy_pos(tokenized_text)\n",
    "mismatches = compare_pos_taggers(pos_tag_output_st_nltk, pos_tag_output_spacy)"
   ]
  },
  {
   "cell_type": "code",
   "execution_count": 137,
   "id": "dfc24894",
   "metadata": {},
   "outputs": [
    {
     "data": {
      "application/vnd.microsoft.datawrangler.viewer.v0+json": {
       "columns": [
        {
         "name": "index",
         "rawType": "int64",
         "type": "integer"
        },
        {
         "name": "word1",
         "rawType": "object",
         "type": "string"
        },
        {
         "name": "tag1",
         "rawType": "object",
         "type": "string"
        },
        {
         "name": "word2",
         "rawType": "object",
         "type": "string"
        },
        {
         "name": "tag2",
         "rawType": "object",
         "type": "string"
        }
       ],
       "ref": "e194d71f-94ab-4d30-a259-f27994cbff9e",
       "rows": [
        [
         "0",
         "*-1",
         "CD",
         "*-1",
         "NNP"
        ],
        [
         "1",
         "*T*-1",
         "NN",
         "*T*-1",
         "UH"
        ],
        [
         "2",
         "*T*-1",
         "NN",
         "*T*-1",
         "RB"
        ],
        [
         "3",
         "*T*-2",
         "NN",
         "*T*-2",
         "UH"
        ],
        [
         "4",
         "that",
         "WDT",
         "that",
         "IN"
        ],
        [
         "5",
         "*T*-2",
         "NN",
         "*T*-2",
         "NNP"
        ],
        [
         "6",
         "*-2",
         "CD",
         "*-2",
         "NNP"
        ],
        [
         "7",
         "Neither",
         "CC",
         "Neither",
         "DT"
        ],
        [
         "8",
         "*T*-3",
         "VBP",
         "*T*-3",
         "NNP"
        ],
        [
         "9",
         "studied",
         "VBN",
         "studied",
         "VBD"
        ],
        [
         "10",
         "*T*-1",
         "NNP",
         "*T*-1",
         "UH"
        ],
        [
         "11",
         "*-1",
         "NN",
         "*-1",
         "RB"
        ],
        [
         "12",
         "*-1",
         "NN",
         "*-1",
         "NNP"
        ],
        [
         "13",
         "*-3",
         "CD",
         "*-3",
         "JJ"
        ]
       ],
       "shape": {
        "columns": 4,
        "rows": 14
       }
      },
      "text/html": [
       "<div>\n",
       "<style scoped>\n",
       "    .dataframe tbody tr th:only-of-type {\n",
       "        vertical-align: middle;\n",
       "    }\n",
       "\n",
       "    .dataframe tbody tr th {\n",
       "        vertical-align: top;\n",
       "    }\n",
       "\n",
       "    .dataframe thead th {\n",
       "        text-align: right;\n",
       "    }\n",
       "</style>\n",
       "<table border=\"1\" class=\"dataframe\">\n",
       "  <thead>\n",
       "    <tr style=\"text-align: right;\">\n",
       "      <th></th>\n",
       "      <th>word1</th>\n",
       "      <th>tag1</th>\n",
       "      <th>word2</th>\n",
       "      <th>tag2</th>\n",
       "    </tr>\n",
       "  </thead>\n",
       "  <tbody>\n",
       "    <tr>\n",
       "      <th>0</th>\n",
       "      <td>*-1</td>\n",
       "      <td>CD</td>\n",
       "      <td>*-1</td>\n",
       "      <td>NNP</td>\n",
       "    </tr>\n",
       "    <tr>\n",
       "      <th>1</th>\n",
       "      <td>*T*-1</td>\n",
       "      <td>NN</td>\n",
       "      <td>*T*-1</td>\n",
       "      <td>UH</td>\n",
       "    </tr>\n",
       "    <tr>\n",
       "      <th>2</th>\n",
       "      <td>*T*-1</td>\n",
       "      <td>NN</td>\n",
       "      <td>*T*-1</td>\n",
       "      <td>RB</td>\n",
       "    </tr>\n",
       "    <tr>\n",
       "      <th>3</th>\n",
       "      <td>*T*-2</td>\n",
       "      <td>NN</td>\n",
       "      <td>*T*-2</td>\n",
       "      <td>UH</td>\n",
       "    </tr>\n",
       "    <tr>\n",
       "      <th>4</th>\n",
       "      <td>that</td>\n",
       "      <td>WDT</td>\n",
       "      <td>that</td>\n",
       "      <td>IN</td>\n",
       "    </tr>\n",
       "    <tr>\n",
       "      <th>5</th>\n",
       "      <td>*T*-2</td>\n",
       "      <td>NN</td>\n",
       "      <td>*T*-2</td>\n",
       "      <td>NNP</td>\n",
       "    </tr>\n",
       "    <tr>\n",
       "      <th>6</th>\n",
       "      <td>*-2</td>\n",
       "      <td>CD</td>\n",
       "      <td>*-2</td>\n",
       "      <td>NNP</td>\n",
       "    </tr>\n",
       "    <tr>\n",
       "      <th>7</th>\n",
       "      <td>Neither</td>\n",
       "      <td>CC</td>\n",
       "      <td>Neither</td>\n",
       "      <td>DT</td>\n",
       "    </tr>\n",
       "    <tr>\n",
       "      <th>8</th>\n",
       "      <td>*T*-3</td>\n",
       "      <td>VBP</td>\n",
       "      <td>*T*-3</td>\n",
       "      <td>NNP</td>\n",
       "    </tr>\n",
       "    <tr>\n",
       "      <th>9</th>\n",
       "      <td>studied</td>\n",
       "      <td>VBN</td>\n",
       "      <td>studied</td>\n",
       "      <td>VBD</td>\n",
       "    </tr>\n",
       "    <tr>\n",
       "      <th>10</th>\n",
       "      <td>*T*-1</td>\n",
       "      <td>NNP</td>\n",
       "      <td>*T*-1</td>\n",
       "      <td>UH</td>\n",
       "    </tr>\n",
       "    <tr>\n",
       "      <th>11</th>\n",
       "      <td>*-1</td>\n",
       "      <td>NN</td>\n",
       "      <td>*-1</td>\n",
       "      <td>RB</td>\n",
       "    </tr>\n",
       "    <tr>\n",
       "      <th>12</th>\n",
       "      <td>*-1</td>\n",
       "      <td>NN</td>\n",
       "      <td>*-1</td>\n",
       "      <td>NNP</td>\n",
       "    </tr>\n",
       "    <tr>\n",
       "      <th>13</th>\n",
       "      <td>*-3</td>\n",
       "      <td>CD</td>\n",
       "      <td>*-3</td>\n",
       "      <td>JJ</td>\n",
       "    </tr>\n",
       "  </tbody>\n",
       "</table>\n",
       "</div>"
      ],
      "text/plain": [
       "      word1 tag1    word2 tag2\n",
       "0       *-1   CD      *-1  NNP\n",
       "1     *T*-1   NN    *T*-1   UH\n",
       "2     *T*-1   NN    *T*-1   RB\n",
       "3     *T*-2   NN    *T*-2   UH\n",
       "4      that  WDT     that   IN\n",
       "5     *T*-2   NN    *T*-2  NNP\n",
       "6       *-2   CD      *-2  NNP\n",
       "7   Neither   CC  Neither   DT\n",
       "8     *T*-3  VBP    *T*-3  NNP\n",
       "9   studied  VBN  studied  VBD\n",
       "10    *T*-1  NNP    *T*-1   UH\n",
       "11      *-1   NN      *-1   RB\n",
       "12      *-1   NN      *-1  NNP\n",
       "13      *-3   CD      *-3   JJ"
      ]
     },
     "execution_count": 137,
     "metadata": {},
     "output_type": "execute_result"
    }
   ],
   "source": [
    "pd.DataFrame(mismatches).drop_duplicates()"
   ]
  },
  {
   "cell_type": "code",
   "execution_count": 138,
   "id": "bfbf8583",
   "metadata": {},
   "outputs": [
    {
     "name": "stdout",
     "output_type": "stream",
     "text": [
      "Accuracy (Stanford NLTK): 0.8856\n",
      "Accuracy (spaCy): 0.8883\n"
     ]
    }
   ],
   "source": [
    "acc_st_nltk = accuracy(pos_tag_output_st_nltk, gold)\n",
    "acc_spacy = accuracy(pos_tag_output_spacy, gold)\n",
    "print(f\"Accuracy (Stanford NLTK): {acc_st_nltk:.4f}\")\n",
    "print(f\"Accuracy (spaCy): {acc_spacy:.4f}\")"
   ]
  }
 ],
 "metadata": {
  "kernelspec": {
   "display_name": "text-mining",
   "language": "python",
   "name": "python3"
  },
  "language_info": {
   "codemirror_mode": {
    "name": "ipython",
    "version": 3
   },
   "file_extension": ".py",
   "mimetype": "text/x-python",
   "name": "python",
   "nbconvert_exporter": "python",
   "pygments_lexer": "ipython3",
   "version": "3.12.4"
  }
 },
 "nbformat": 4,
 "nbformat_minor": 5
}
